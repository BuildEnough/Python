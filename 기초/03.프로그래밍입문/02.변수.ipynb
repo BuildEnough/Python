{
 "cells": [
  {
   "cell_type": "code",
   "execution_count": 6,
   "metadata": {},
   "outputs": [
    {
     "name": "stdout",
     "output_type": "stream",
     "text": [
      "티모\n"
     ]
    }
   ],
   "source": [
    "champ_name = \"티모\"\n",
    "champ_level = 10\n",
    "champ_damage = 90\n",
    "champ_skill = \"버섯깔기\"\n",
    "\n",
    "print(champ_name)\n"
   ]
  },
  {
   "cell_type": "code",
   "execution_count": 7,
   "metadata": {},
   "outputs": [
    {
     "name": "stdout",
     "output_type": "stream",
     "text": [
      "10 90\n"
     ]
    }
   ],
   "source": [
    "print(champ_level, champ_damage)"
   ]
  },
  {
   "cell_type": "code",
   "execution_count": 10,
   "metadata": {},
   "outputs": [
    {
     "name": "stdout",
     "output_type": "stream",
     "text": [
      "챔피언: 티모\n",
      "스킬: 버섯깔기\n"
     ]
    }
   ],
   "source": [
    "print(\"챔피언:\", champ_name)\n",
    "print(\"스킬:\", champ_skill)"
   ]
  },
  {
   "cell_type": "code",
   "execution_count": 11,
   "metadata": {},
   "outputs": [],
   "source": [
    "champ_level = 11\n",
    "champ_damage = 95"
   ]
  },
  {
   "cell_type": "code",
   "execution_count": 12,
   "metadata": {},
   "outputs": [
    {
     "name": "stdout",
     "output_type": "stream",
     "text": [
      "11 95\n"
     ]
    }
   ],
   "source": [
    "print(champ_level, champ_damage)"
   ]
  }
 ],
 "metadata": {
  "kernelspec": {
   "display_name": "Python 3",
   "language": "python",
   "name": "python3"
  },
  "language_info": {
   "codemirror_mode": {
    "name": "ipython",
    "version": 3
   },
   "file_extension": ".py",
   "mimetype": "text/x-python",
   "name": "python",
   "nbconvert_exporter": "python",
   "pygments_lexer": "ipython3",
   "version": "3.13.2"
  }
 },
 "nbformat": 4,
 "nbformat_minor": 2
}
